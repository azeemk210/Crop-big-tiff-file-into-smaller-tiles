{
 "cells": [
  {
   "cell_type": "code",
   "execution_count": 2,
   "id": "3cf2a59a",
   "metadata": {},
   "outputs": [],
   "source": [
    "import os\n",
    "from osgeo import gdal\n",
    "\n",
    "# Input folder containing TIFF files\n",
    "input_folder = \"input\"\n",
    "\n",
    "# Output folder for the tiles\n",
    "output_folder = \"output\"\n",
    "\n",
    "# Tile size\n",
    "tile_size = 500\n",
    "\n",
    "# Create the output folder if it doesn't exist\n",
    "if not os.path.exists(output_folder):\n",
    "    os.makedirs(output_folder)\n",
    "\n",
    "# Iterate over all files in the input folder\n",
    "for file in os.listdir(input_folder):\n",
    "    # Check if the file is a TIFF file\n",
    "    if file.endswith(\".tif\"):\n",
    "        # Open the input TIFF file\n",
    "        ds = gdal.Open(os.path.join(input_folder, file))\n",
    "\n",
    "        # Get the width and height of the image\n",
    "        width = ds.RasterXSize\n",
    "        height = ds.RasterYSize\n",
    "\n",
    "        # Calculate the number of rows and columns of tiles\n",
    "        num_cols = width // tile_size\n",
    "        num_rows = height // tile_size\n",
    "\n",
    "        # Iterate over the rows and columns of tiles\n",
    "        for i in range(num_rows):\n",
    "            for j in range(num_cols):\n",
    "                # Calculate the x and y offsets of the tile\n",
    "                xoff = j * tile_size\n",
    "                yoff = i * tile_size\n",
    "                # Create the output file name\n",
    "                output_file = os.path.join(output_folder, f\"{file}_row{i}_col{j}.tif\")\n",
    "                # Use gdal_translate to crop the tile\n",
    "                gdal.Translate(output_file, ds, srcWin=[xoff, yoff, tile_size, tile_size])\n",
    "\n",
    "        # Get last tile of all rows of size 250*512\n",
    "        for i in range(num_rows):\n",
    "            xoff = num_cols * tile_size\n",
    "            yoff = i * tile_size\n",
    "            output_file = os.path.join(output_folder, f\"{file}_row{i}_last_col.tif\")\n",
    "            gdal.Translate(output_file, ds, srcWin=[xoff, yoff, 250, tile_size])"
   ]
  },
  {
   "cell_type": "code",
   "execution_count": null,
   "id": "0965dd38",
   "metadata": {},
   "outputs": [],
   "source": []
  }
 ],
 "metadata": {
  "kernelspec": {
   "display_name": "Python 3 (ipykernel)",
   "language": "python",
   "name": "python3"
  },
  "language_info": {
   "codemirror_mode": {
    "name": "ipython",
    "version": 3
   },
   "file_extension": ".py",
   "mimetype": "text/x-python",
   "name": "python",
   "nbconvert_exporter": "python",
   "pygments_lexer": "ipython3",
   "version": "3.9.7"
  }
 },
 "nbformat": 4,
 "nbformat_minor": 5
}
